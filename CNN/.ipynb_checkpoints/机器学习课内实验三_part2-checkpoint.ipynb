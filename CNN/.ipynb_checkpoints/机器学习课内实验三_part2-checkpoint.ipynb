{
 "cells": [
  {
   "cell_type": "markdown",
   "id": "7abf96c3",
   "metadata": {},
   "source": [
    "# 机器学习课内实验（使用PyTorch库简洁实现全连接神经网络）"
   ]
  },
  {
   "cell_type": "markdown",
   "id": "f8587b4a",
   "metadata": {},
   "source": [
    "导入库"
   ]
  },
  {
   "cell_type": "code",
   "execution_count": 1,
   "id": "7abc107f",
   "metadata": {},
   "outputs": [],
   "source": [
    "import platform\n",
    "import os\n",
    "import platform\n",
    "\n",
    "import numpy as np\n",
    "from matplotlib import pyplot as plt\n",
    "import config\n",
    "import torch\n",
    "import torchvision\n",
    "from mlxtend.data import loadlocal_mnist\n",
    "from torch import nn, optim\n",
    "from torch.utils import data\n",
    "from d2l import torch as d2l\n",
    "from IPython import display\n",
    "from typing import List, Tuple"
   ]
  },
  {
   "cell_type": "markdown",
   "id": "45c69949",
   "metadata": {},
   "source": [
    "训练函数将会运行多个迭代周期（由num_epochs指定）。 在每个迭代周期结束时，利用test_iter访问到的测试数据集对模型进行评估。利用后面给出的Animator类来可视化训练进度"
   ]
  },
  {
   "cell_type": "code",
   "execution_count": 2,
   "id": "ac707d89",
   "metadata": {},
   "outputs": [],
   "source": [
    "class Animator:  #@save\n",
    "    \"\"\"在动画中绘制数据\"\"\"\n",
    "    def __init__(self, xlabel=None, ylabel=None, legend=None, xlim=None,\n",
    "                 ylim=None, xscale='linear', yscale='linear',\n",
    "                 fmts=('-', 'm--', 'g-.', 'r:'), nrows=1, ncols=1,\n",
    "                 figsize=(3.5, 2.5)):\n",
    "        # 增量地绘制多条线\n",
    "        if legend is None:\n",
    "            legend = []\n",
    "        d2l.use_svg_display()\n",
    "        self.fig, self.axes = d2l.plt.subplots(nrows, ncols, figsize=figsize)\n",
    "        if nrows * ncols == 1:\n",
    "            self.axes = [self.axes, ]\n",
    "        # 使用lambda函数捕获参数\n",
    "        self.config_axes = lambda: d2l.set_axes(\n",
    "            self.axes[0], xlabel, ylabel, xlim, ylim, xscale, yscale, legend)\n",
    "        self.X, self.Y, self.fmts = None, None, fmts\n",
    "\n",
    "    def add(self, x, y):\n",
    "        # 向图表中添加多个数据点\n",
    "        if not hasattr(y, \"__len__\"):\n",
    "            y = [y]\n",
    "        n = len(y)\n",
    "        if not hasattr(x, \"__len__\"):\n",
    "            x = [x] * n\n",
    "        if not self.X:\n",
    "            self.X = [[] for _ in range(n)]\n",
    "        if not self.Y:\n",
    "            self.Y = [[] for _ in range(n)]\n",
    "        for i, (a, b) in enumerate(zip(x, y)):\n",
    "            if a is not None and b is not None:\n",
    "                self.X[i].append(a)\n",
    "                self.Y[i].append(b)\n",
    "        self.axes[0].cla()\n",
    "        for x, y, fmt in zip(self.X, self.Y, self.fmts):\n",
    "            self.axes[0].plot(x, y, fmt)\n",
    "        self.config_axes()\n",
    "        display.display(self.fig)\n",
    "        display.clear_output(wait=True)"
   ]
  },
  {
   "cell_type": "markdown",
   "id": "26f738bd",
   "metadata": {},
   "source": [
    "读取数据"
   ]
  },
  {
   "cell_type": "code",
   "execution_count": 3,
   "id": "e542e537",
   "metadata": {
    "scrolled": true
   },
   "outputs": [
    {
     "name": "stdout",
     "output_type": "stream",
     "text": [
      "100\n",
      "开始训练\n"
     ]
    }
   ],
   "source": [
    "# 1 读取数据\n",
    "# 1.1 重写dataset\n",
    "class my_dataset(torch.utils.data.Dataset):\n",
    "    def __init__(self, x, y, transform=None, target_transform=None):\n",
    "        # pytorh的训练集必须是tensor形式，可以直接在dataset类中转换，省去了定义transform\n",
    "        # 转换Y数据类型为长整型\n",
    "        self.point = torch.from_numpy(x).type(torch.FloatTensor)\n",
    "        self.label = torch.from_numpy(y).type(torch.FloatTensor)\n",
    "        self.transform = transform\n",
    "        self.target_transform = target_transform\n",
    "\n",
    "    def __getitem__(self, index):\n",
    "        x = self.point[index]\n",
    "        label = self.label[index]\n",
    "        return x, label\n",
    "\n",
    "    def __len__(self):\n",
    "        return len(self.label)\n",
    "\n",
    "# 1.2 读取MNIST数据集及对应的标签\n",
    "if not platform.system() == 'Windows':\n",
    "    X_train, y_train = loadlocal_mnist(\n",
    "            images_path='train-images-idx3-ubyte',\n",
    "            labels_path='train-labels-idx1-ubyte')\n",
    "    X_test, y_test = loadlocal_mnist(\n",
    "            images_path='t10k-images-idx3-ubyte',\n",
    "            labels_path='t10k-labels-idx1-ubyte')\n",
    "\n",
    "else:\n",
    "    X_train, y_train = loadlocal_mnist(\n",
    "        images_path='train-images-idx3-ubyte',\n",
    "        labels_path='train-labels-idx1-ubyte')\n",
    "    X_test, y_test = loadlocal_mnist(\n",
    "        images_path='t10k-images-idx3-ubyte',\n",
    "        labels_path='t10k-labels-idx1-ubyte')\n",
    "\n",
    "\n",
    "# 1.2.1 转换为tenser\n",
    "args=config.args\n",
    "args.batch_size = 10\n",
    "device=torch.device('cpu' if args.cpu else 'cuda')\n",
    "mnist_train = my_dataset(X_train, y_train)\n",
    "mnist_test = my_dataset(X_test, y_test)\n",
    "train_loader = data.DataLoader(mnist_train, batch_size=args.batch_size, shuffle=True)\n",
    "test_loader = data.DataLoader(mnist_test, batch_size=args.batch_size, shuffle=False)\n",
    "\n",
    "\n",
    "# 定义单隐层全连接神经网络\n",
    "class Classifier(nn.Module):\n",
    "    def __init__(self, hidden_layersize=256):\n",
    "        super(Classifier, self).__init__()\n",
    "        self.fc1 = nn.Linear(784, hidden_layersize)\n",
    "        self.fc2 = nn.Linear(hidden_layersize, 10)\n",
    "\n",
    "    def forward(self, input):\n",
    "        x = nn.ReLU()(self.fc1(input))\n",
    "        x = self.fc2(x)\n",
    "        return x\n",
    "    \n",
    "# 对Classifier类进行实例化，创建model对象作为我们的神经网络\n",
    "\n",
    "model = Classifier().to(device)\n",
    "args.epochs = 100\n",
    "criterion = nn.CrossEntropyLoss()\n",
    "optimizer = torch.optim.SGD(model.parameters(), lr=0.1)\n",
    "epochs = args.epochs\n",
    "print(epochs)\n",
    "train_losses = []\n",
    "print('开始训练')"
   ]
  },
  {
   "cell_type": "markdown",
   "id": "1a16f2b6",
   "metadata": {},
   "source": [
    "# 设置性能函数（使用准确率accuracy作为性能指标）"
   ]
  },
  {
   "cell_type": "markdown",
   "id": "1e59c700",
   "metadata": {},
   "source": [
    "在这个函数中，我们首先将模型设置为评估模式（model.eval()），这样可以关闭一些不必要的计算，提高代码执行效率。然后，我们定义了两个变量correct和total，分别用于统计预测正确的样本数和总样本数。接下来，我们使用了with torch.no_grad()来关闭梯度计算，以进一步提高代码执行效率。在每个批次中，我们将输入数据和标签数据分别移到计算设备上，然后使用模型进行前向传播，并返回网络输出的类别概率。在这里，我们并不需要真正关心输出的类别概率，而只需要选出最大概率对应的类别作为模型的预测结果即可（即用torch.max()函数求出最大值及其对应的索引）。最后，我们累加正确样本的数量和总样本数，并计算准确率。"
   ]
  },
  {
   "cell_type": "code",
   "execution_count": 4,
   "id": "8fc9f8bd",
   "metadata": {},
   "outputs": [],
   "source": [
    "def accuracy(model, test_loader):\n",
    "    correct = 0\n",
    "    total = 0\n",
    "    with torch.no_grad():\n",
    "        for data, target in test_loader:\n",
    "            data, target = data.to(device),target.to(device)\n",
    "            outputs = model(data)\n",
    "            _, predicted = torch.max(outputs.data, 1)\n",
    "            total += target.size(0)\n",
    "            correct += (predicted == target).sum().item()\n",
    "    accuracy = 100.0 * correct / total\n",
    "    return accuracy"
   ]
  },
  {
   "cell_type": "code",
   "execution_count": 5,
   "id": "30522ba1",
   "metadata": {},
   "outputs": [],
   "source": [
    "def compute_loss(model, loader, criterion):\n",
    "    model.eval()\n",
    "    loss = 0.\n",
    "    with torch.no_grad():\n",
    "        for data, target in loader:\n",
    "            data = data.to(device)\n",
    "            target = target.long()\n",
    "            target = target.to(device)\n",
    "            output = model(data)\n",
    "            loss += criterion(output, target).item() * data.size(0)\n",
    "    return loss / len(loader.dataset)"
   ]
  },
  {
   "cell_type": "markdown",
   "id": "fa2d20aa",
   "metadata": {},
   "source": [
    "# 定义训练函数"
   ]
  },
  {
   "cell_type": "code",
   "execution_count": 6,
   "id": "af78b852",
   "metadata": {},
   "outputs": [],
   "source": [
    "def train(model, train_loader, test_loader, optimizer, criterion, num_epochs):\n",
    "    train_losses = []\n",
    "    test_losses = []\n",
    "    animator_test_loss = Animator(xlabel='epoch', ylabel='test_loss', xlim=[0, num_epochs])\n",
    "    animator_train_loss = Animator(xlabel='epoch', ylabel='train_loss', xlim=[0, num_epochs])\n",
    "    for epoch in range(num_epochs):\n",
    "        model.train() # 将模型设置为训练模式\n",
    "        \n",
    "        train_loss = 0\n",
    "        for data, target in train_loader:\n",
    "            data = data.to(device)\n",
    "            target = target.to(device)\n",
    "\n",
    "            optimizer.zero_grad()\n",
    "            # 前向传播\n",
    "            # 预测结果（每一条数据的十个分类的分数)[batch_size, 10]\n",
    "            output = model(data)\n",
    "            \n",
    "            # 调整target数据类型\n",
    "            target = target.long()\n",
    "            # 计算代价函数\n",
    "            loss = criterion(output, target)\n",
    "            # 反向传播\n",
    "            loss.backward()\n",
    "            #更新参数\n",
    "            optimizer.step()\n",
    "        \n",
    "        # 评估模型在测试集上的表现\n",
    "        model.eval() # 将模型设置为评估模式\n",
    "        test_loss = compute_loss(model, test_loader, criterion)\n",
    "        test_losses.append(test_loss)\n",
    "        \n",
    "        train_loss = compute_loss(model, train_loader, criterion)\n",
    "        train_losses.append(train_loss)\n",
    "        \n",
    "        animator_test_loss.add(epoch, test_losses[-1])\n",
    "        animator_train_loss.add(epoch, train_losses[-1])\n",
    "    return train_losses, test_losses"
   ]
  },
  {
   "cell_type": "code",
   "execution_count": null,
   "id": "21a3051f",
   "metadata": {
    "scrolled": true
   },
   "outputs": [],
   "source": [
    "train(model, train_loader, test_loader, optimizer, criterion, epochs)"
   ]
  },
  {
   "cell_type": "code",
   "execution_count": null,
   "id": "c49481c2",
   "metadata": {},
   "outputs": [],
   "source": [
    "acc = accuracy(model, test_loader)\n",
    "print(\"acc: \", acc)"
   ]
  },
  {
   "cell_type": "code",
   "execution_count": null,
   "id": "3389aa1a",
   "metadata": {},
   "outputs": [],
   "source": [
    "# 保存模型到.pth文件\n",
    "torch.save(model.state_dict(), 'Exp3_model.pth')"
   ]
  }
 ],
 "metadata": {
  "kernelspec": {
   "display_name": "Python 3 (ipykernel)",
   "language": "python",
   "name": "python3"
  },
  "language_info": {
   "codemirror_mode": {
    "name": "ipython",
    "version": 3
   },
   "file_extension": ".py",
   "mimetype": "text/x-python",
   "name": "python",
   "nbconvert_exporter": "python",
   "pygments_lexer": "ipython3",
   "version": "3.11.3"
  }
 },
 "nbformat": 4,
 "nbformat_minor": 5
}
