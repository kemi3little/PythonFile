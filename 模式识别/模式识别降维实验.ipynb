{
 "cells": [
  {
   "cell_type": "code",
   "execution_count": 1,
   "id": "a649ccbd",
   "metadata": {},
   "outputs": [],
   "source": [
    "import numpy as np\n",
    "import pandas as pd\n",
    "from matplotlib import pyplot as plt"
   ]
  },
  {
   "cell_type": "code",
   "execution_count": 2,
   "id": "336d1378",
   "metadata": {},
   "outputs": [],
   "source": [
    "# Z_score 标准化函数\n",
    "def my_z_score_normalization(X):\n",
    "    mean = np.mean(X, axis = 0) #对每一列求平均值\n",
    "    std = np.std(X, axis = 0) # 对每一列求标准差\n",
    "    X_normaliztion = (X - mean) / std\n",
    "    return X_normaliztion\n",
    "\n",
    "# PCA 降维函数\n",
    "def my_pca(X, n_components):\n",
    "    # 中心化数据\n",
    "    mean = np.mean(X, axis = 0)\n",
    "    X_center = X- mean\n",
    "\n",
    "    # 协方差矩阵\n",
    "    X_cov = np.cov(X_center.T)\n",
    "\n",
    "    # 计算矩阵的特征值和特征向量\n",
    "    eig_value, eig_vector = np.linalg.eig(np.mat(X_cov))\n",
    "\n",
    "    # 将特征值由大到小进行排序\n",
    "    idx = eig_value.argsort()[::-1]\n",
    "    eig_vector = eig_vector[:, idx]\n",
    "\n",
    "    # 选择特征向量，并降维\n",
    "    W = eig_vector[:, :n_components]\n",
    "    X_pca = X_center.dot(W)\n",
    "\n",
    "    return X_pca\n",
    "\n",
    "# LDA 降维函数\n",
    "def my_LDA(X, y, n_components):\n",
    "    # 寻找类均值\n",
    "    class_means = []\n",
    "    for label in np.unique(y):\n",
    "        X_label = X[y == label]\n",
    "        class_mean = np.mean(X_label, axis = 0)\n",
    "        class_means.append(class_mean)\n",
    "    class_means = np.array(class_means)\n",
    "\n",
    "    # 计算类内散度矩阵\n",
    "    Sw = np.zeros((X.shape[1], X.shape[1]))\n",
    "    for label, mean in zip(np.unique(y), class_means):\n",
    "        X_label = X[y == label]\n",
    "        X_centered = X_label - mean\n",
    "        Sw += X_centered.T.dot(X_centered)\n",
    "\n",
    "    # 计算类间散度矩阵\n",
    "    mean_total = np.mean(X, axis = 0)\n",
    "    Sb = np.zeros((X.shape[1], X.shape[1]))\n",
    "    for label, mean in zip(np.unique(y), class_means):\n",
    "        n_samples = np.sum(y == label)\n",
    "        mean_diff = (mean - mean_total)\n",
    "        Sb += n_samples * mean_diff.dot(mean_diff.T)\n",
    "\n",
    "    # 计算特征向量和特征值\n",
    "    eig_value, eig_vector = np.linalg.eig(np.linalg.inv(Sw).dot(Sb))\n",
    "\n",
    "    # 将特征值由大到小进行排序\n",
    "    idx = eig_value.argsort()[::-1]\n",
    "    eig_vector = eig_vector[:, idx]\n",
    "\n",
    "    # 选择特征向量，并降维\n",
    "    W = eig_vector[:, :n_components]\n",
    "    X_LDA= X.dot(W)\n",
    "\n",
    "    return X_LDA\n",
    "\n",
    "# 填补缺失值\n",
    "def fill_missing_values(data):\n",
    "    # 检查缺失值\n",
    "    if data.isna().sum().sum() == 0:\n",
    "        print('数据集中没有缺失值')\n",
    "        return data\n",
    "    else:\n",
    "        # 去除非数值型特征列\n",
    "        non_numeric_cols = data.select_dtypes(exclude=['float', 'int']).columns.tolist()\n",
    "        data_numeric = data.drop(non_numeric_cols, axis=1)\n",
    "\n",
    "        # 用均值填补缺失值\n",
    "        data_numeric = data_numeric.fillna(data_numeric.mean())\n",
    "\n",
    "        # 将非数值型特征列和填补后的数值型特征列合并\n",
    "        data_non_numeric = data[non_numeric_cols]\n",
    "        data_filled = pd.concat([data_numeric, data_non_numeric], axis=1)\n",
    "\n",
    "        print('缺失值填补完成')\n",
    "        return data_filled\n",
    "\n"
   ]
  },
  {
   "cell_type": "markdown",
   "id": "54d040a7",
   "metadata": {},
   "source": [
    "# 导入数据"
   ]
  },
  {
   "cell_type": "code",
   "execution_count": 3,
   "id": "a542f89d",
   "metadata": {},
   "outputs": [
    {
     "name": "stdout",
     "output_type": "stream",
     "text": [
      "数据集中没有缺失值\n",
      "4547\n"
     ]
    }
   ],
   "source": [
    "# 导入数据\n",
    "Red_wine = pd.read_csv('winequality-red.csv', delimiter = ';')\n",
    "White_wine = pd.read_csv('winequality-white.csv', delimiter = ';')\n",
    "\n",
    "# 添加分类标签并合并数据\n",
    "Red_wine['Type'] = 0\n",
    "White_wine['Type'] = 1\n",
    "data = pd.concat([Red_wine, White_wine])\n",
    "data = fill_missing_values(data)\n",
    "\n",
    "# 数据预处理\n",
    "# 1.1 特征值与标签分离\n",
    "X = data.drop(['Type'], axis = 1).values\n",
    "y = data['Type'].values\n",
    "\n",
    "# 1.2 数据集划分\n",
    "np.random.seed(42)\n",
    "indices = np.random.permutation(len(X))\n",
    "train_size = int(0.7 * len(X))\n",
    "print(train_size)\n"
   ]
  },
  {
   "cell_type": "code",
   "execution_count": 4,
   "id": "6b7c2b79",
   "metadata": {
    "scrolled": false
   },
   "outputs": [],
   "source": [
    "X_train_raw = X[indices[:train_size], :]\n",
    "X_test_raw = X[indices[train_size:], :]\n",
    "y_train = y[indices[:train_size]]\n",
    "y_test = y[indices[train_size:]]\n",
    "\n"
   ]
  },
  {
   "cell_type": "code",
   "execution_count": 5,
   "id": "8aba7893",
   "metadata": {},
   "outputs": [],
   "source": [
    "# 1.3 标准化处理 \n",
    "X_train = my_z_score_normalization(X_train_raw)\n",
    "X_test = my_z_score_normalization(X_test_raw)\n",
    "# 2. PCA 降维\n",
    "X_train_pca = my_pca(X_train, n_components=2)\n",
    "X_test_pca = my_pca(X_test, n_components=2)\n",
    "# 3. LDA 降维\n",
    "X_train_lda = my_LDA(X_train, y_train, n_components=1)\n",
    "X_test_lda = my_LDA(X_test, y_test, n_components=1)"
   ]
  },
  {
   "cell_type": "code",
   "execution_count": 6,
   "id": "1b8bedc1",
   "metadata": {
    "scrolled": false
   },
   "outputs": [
    {
     "name": "stdout",
     "output_type": "stream",
     "text": [
      "<class 'numpy.matrix'>\n"
     ]
    },
    {
     "name": "stderr",
     "output_type": "stream",
     "text": [
      "C:\\Users\\86166\\AppData\\Local\\Temp\\ipykernel_13972\\2313522318.py:5: MatplotlibDeprecationWarning: The get_cmap function was deprecated in Matplotlib 3.7 and will be removed two minor releases later. Use ``matplotlib.colormaps[name]`` or ``matplotlib.colormaps.get_cmap(obj)`` instead.\n",
      "  plt.scatter(np.asarray(X_train_pca)[:, 0], np.asarray(X_train_pca)[:, 1], c=y_train, cmap=plt.cm.get_cmap('cool', 2))\n"
     ]
    },
    {
     "data": {
      "image/png": "[encoded data removed]",
      "text/plain": [
       "<Figure size 800x600 with 2 Axes>"
      ]
     },
     "metadata": {},
     "output_type": "display_data"
    }
   ],
   "source": [
    "# 绘制PCA 2D图\n",
    "\n",
    "print(type(X_train_pca))\n",
    "plt.figure(figsize=(8, 6))\n",
    "plt.scatter(np.asarray(X_train_pca)[:, 0], np.asarray(X_train_pca)[:, 1], c=y_train, cmap=plt.cm.get_cmap('cool', 2))\n",
    "plt.colorbar()\n",
    "\n",
    "plt.xlabel(\"PC 1\")\n",
    "plt.ylabel(\"PC 2\")\n",
    "plt.title(\"PCA 2D Projection\")\n",
    "plt.show()\n"
   ]
  },
  {
   "cell_type": "code",
   "execution_count": 7,
   "id": "5a2987f5",
   "metadata": {},
   "outputs": [
    {
     "name": "stderr",
     "output_type": "stream",
     "text": [
      "C:\\Users\\86166\\AppData\\Local\\Temp\\ipykernel_13972\\127781767.py:5: MatplotlibDeprecationWarning: The get_cmap function was deprecated in Matplotlib 3.7 and will be removed two minor releases later. Use ``matplotlib.colormaps[name]`` or ``matplotlib.colormaps.get_cmap(obj)`` instead.\n",
      "  plt.scatter(X_train_lda, np.zeros_like(X_train_lda), c=y_train, cmap=plt.cm.get_cmap('cool', 2))\n",
      "C:\\Users\\86166\\.conda\\envs\\Python39\\lib\\site-packages\\matplotlib\\collections.py:192: ComplexWarning: Casting complex values to real discards the imaginary part\n",
      "  offsets = np.asanyarray(offsets, float)\n"
     ]
    },
    {
     "data": {
      "image/png": "[encoded data removed]",
      "text/plain": [
       "<Figure size 800x600 with 1 Axes>"
      ]
     },
     "metadata": {},
     "output_type": "display_data"
    }
   ],
   "source": [
    "\n",
    "# 绘制LDA 1D图\n",
    "# 绘制LDA 1D图\n",
    "\n",
    "plt.figure(figsize=(8, 6))\n",
    "plt.scatter(X_train_lda, np.zeros_like(X_train_lda), c=y_train, cmap=plt.cm.get_cmap('cool', 2))\n",
    "plt.title(\"LDA 1D Projection\")\n",
    "plt.xlabel(\"LD 1\")\n",
    "plt.yticks([])\n",
    "plt.show()"
   ]
  },
  {
   "cell_type": "code",
   "execution_count": 8,
   "id": "52f8fb73",
   "metadata": {},
   "outputs": [],
   "source": [
    "# 定义逻辑回归分类器\n",
    "def logistic_regression(X, y, learning_rate=0.01, n_iterations=1000):\n",
    "\n",
    "    y = y.reshape((-1, 1))\n",
    "    \n",
    "    # 初始化参数\n",
    "    n_samples, n_features = X.shape\n",
    "    w = np.zeros((n_features, 1))\n",
    "    b = 0\n",
    "    \n",
    "    # 迭代优化\n",
    "    for i in range(n_iterations):\n",
    "        # 计算预测值\n",
    "        z = X.dot(w) + b\n",
    "        y_pred = 1 / (1 + np.exp(-z))\n",
    "        \n",
    "        # 计算损失函数\n",
    "        cost = (-1 / n_samples) * np.sum(y * np.log(y_pred) + (1 - y) * np.log(1 - y_pred))\n",
    "        \n",
    "        # 计算梯度\n",
    "        dw = (1 / n_samples) * X.T.dot(y_pred - y)\n",
    "        db = (1 / n_samples) * np.sum(y_pred - y)\n",
    "        \n",
    "        # 参数更新\n",
    "        w = w - learning_rate * dw\n",
    "        b = b - learning_rate * db\n",
    "        \n",
    "        if i % 100 == 0:\n",
    "            print(\"Iteration %i: Cost=%f\" % (i, cost))\n",
    "    \n",
    "    # 返回训练好的参数    \n",
    "    return w, b"
   ]
  },
  {
   "cell_type": "code",
   "execution_count": 9,
   "id": "d2f5c3e4",
   "metadata": {},
   "outputs": [],
   "source": [
    "# 定义逻辑回归分类器\n",
    "def logistic_regression_PCA(X, y, learning_rate=0.01, n_iterations=1000):\n",
    "\n",
    "    y = y.reshape((-1, 1))\n",
    "    \n",
    "    # 初始化参数\n",
    "    n_samples, n_features = X.shape\n",
    "    w = np.zeros((n_features, 1))\n",
    "    b = 0\n",
    "    \n",
    "    # 迭代优化\n",
    "    for i in range(n_iterations):\n",
    "        # 计算预测值\n",
    "        z = X.dot(w) + b\n",
    "        y_pred = 1 / (1 + np.exp(-z))\n",
    "        \n",
    "        # 不知道为什么 但是就是需要转置\n",
    "        # 计算损失函数\n",
    "        cost = (-1 / n_samples) * np.sum(y.T * np.log(y_pred) + (1 - y).T * np.log(1 - y_pred))\n",
    "        \n",
    "        # 计算梯度\n",
    "        dw = (1 / n_samples) * X.T.dot(y_pred - y)\n",
    "        db = (1 / n_samples) * np.sum(y_pred - y)\n",
    "        \n",
    "        # 参数更新\n",
    "        w = w - learning_rate * dw\n",
    "        b = b - learning_rate * db\n",
    "        \n",
    "        if i % 100 == 0:\n",
    "            print(\"Iteration %i: Cost=%f\" % (i, cost))\n",
    "    \n",
    "    # 返回训练好的参数    \n",
    "    return w, b"
   ]
  },
  {
   "cell_type": "code",
   "execution_count": 10,
   "id": "caecbd54",
   "metadata": {},
   "outputs": [],
   "source": [
    "def accuracy_score(y_true, y_pred):\n",
    "\n",
    "    # 确保y_true和y_pred具有相同的形状\n",
    "    assert y_true.shape == y_pred.shape, \"y_true and y_pred must have the same shape.\"\n",
    "    \n",
    "    # 计算精度得分\n",
    "    accuracy = np.sum(y_true == y_pred) / len(y_true)\n",
    "    \n",
    "    return accuracy"
   ]
  },
  {
   "cell_type": "code",
   "execution_count": 14,
   "id": "831a9c7e",
   "metadata": {},
   "outputs": [
    {
     "name": "stdout",
     "output_type": "stream",
     "text": [
      "Iteration 0: Cost=0.693147\n",
      "Iteration 100: Cost=0.415298\n",
      "Iteration 200: Cost=0.311244\n",
      "Iteration 300: Cost=0.256966\n",
      "Iteration 400: Cost=0.223295\n",
      "Iteration 500: Cost=0.200167\n",
      "Iteration 600: Cost=0.183187\n",
      "Iteration 700: Cost=0.170125\n",
      "Iteration 800: Cost=0.159726\n",
      "Iteration 900: Cost=0.151225\n",
      "Accuracy using PCA: 0.973846\n"
     ]
    }
   ],
   "source": [
    "w_pca, b_pca = logistic_regression_PCA(X_train_pca, y_train)\n",
    "y_pred_pca = np.round(1 / (1 + np.exp(-(X_test_pca.dot(w_pca) + b_pca))))\n",
    "y_test = y_test.reshape(-1, 1)\n",
    "accuracy_pca = accuracy_score(y_test, y_pred_pca)\n",
    "print(\"Accuracy using PCA: %f\" % accuracy_pca)"
   ]
  },
  {
   "cell_type": "code",
   "execution_count": 17,
   "id": "091c83e6",
   "metadata": {},
   "outputs": [],
   "source": [
    "# 保存预测结果到数据框中\n",
    "df = pd.DataFrame(y_pred_pca, columns=['prediction'])\n",
    "\n",
    "# 将数据框保存为 csv 文件\n",
    "df.to_csv(\"predictions_pca.csv\", index=False)"
   ]
  },
  {
   "cell_type": "code",
   "execution_count": 12,
   "id": "22d95a14",
   "metadata": {
    "scrolled": false
   },
   "outputs": [
    {
     "name": "stdout",
     "output_type": "stream",
     "text": [
      "Iteration 0: Cost=0.693147\n",
      "Iteration 100: Cost=0.408408\n",
      "Iteration 200: Cost=0.300008\n",
      "Iteration 300: Cost=0.242772\n",
      "Iteration 400: Cost=0.207007\n",
      "Iteration 500: Cost=0.182353\n",
      "Iteration 600: Cost=0.164235\n",
      "Iteration 700: Cost=0.150307\n",
      "Iteration 800: Cost=0.139237\n",
      "Iteration 900: Cost=0.130210\n",
      "Accuracy: 0.9856410256410256\n"
     ]
    }
   ],
   "source": [
    "w, b = logistic_regression(X_train, y_train)\n",
    "y_pred = np.round(1 / (1 + np.exp(-(X_test.dot(w) + b))))\n",
    "# 将二者类型统一\n",
    "# 将它们转换为合适的类型\n",
    "accuracy = accuracy_score(y_test, y_pred)\n",
    "print(\"Accuracy:\", accuracy)\n"
   ]
  },
  {
   "cell_type": "code",
   "execution_count": 15,
   "id": "3246c59e",
   "metadata": {},
   "outputs": [],
   "source": [
    "# 保存预测结果到数据框中\n",
    "df = pd.DataFrame(y_pred, columns=['prediction'])\n",
    "\n",
    "# 将数据框保存为 csv 文件\n",
    "df.to_csv(\"predictions.csv\", index=False)"
   ]
  },
  {
   "cell_type": "code",
   "execution_count": 13,
   "id": "ecba0faf",
   "metadata": {
    "scrolled": true
   },
   "outputs": [
    {
     "name": "stderr",
     "output_type": "stream",
     "text": [
      "C:\\Users\\86166\\AppData\\Local\\Temp\\ipykernel_13972\\2651847589.py:29: ComplexWarning: Casting complex values to real discards the imaginary part\n",
      "  print(\"Iteration %i: Cost=%f\" % (i, cost))\n"
     ]
    },
    {
     "name": "stdout",
     "output_type": "stream",
     "text": [
      "Iteration 0: Cost=0.693147\n",
      "Iteration 100: Cost=0.588579\n",
      "Iteration 200: Cost=0.519186\n",
      "Iteration 300: Cost=0.471321\n",
      "Iteration 400: Cost=0.436897\n",
      "Iteration 500: Cost=0.411184\n",
      "Iteration 600: Cost=0.391350\n",
      "Iteration 700: Cost=0.375635\n",
      "Iteration 800: Cost=0.362904\n",
      "Iteration 900: Cost=0.352400\n",
      "Accuracy using LDA: 0.578462\n"
     ]
    }
   ],
   "source": [
    "w_lda, b_lda = logistic_regression(X_train_lda, y_train)\n",
    "y_pred_lda = np.round(1 / (1 + np.exp(-(X_test_lda.dot(w_lda) + b_lda))))\n",
    "\n",
    "accuracy_lda = accuracy_score(y_test, y_pred_lda)\n",
    "print(\"Accuracy using LDA: %f\" % accuracy_lda)"
   ]
  },
  {
   "cell_type": "code",
   "execution_count": 16,
   "id": "090cfa75",
   "metadata": {},
   "outputs": [],
   "source": [
    "# 保存预测结果到数据框中\n",
    "df = pd.DataFrame(y_pred_lda, columns=['prediction'])\n",
    "\n",
    "# 将数据框保存为 csv 文件\n",
    "df.to_csv(\"predictions_lda.csv\", index=False)"
   ]
  },
  {
   "cell_type": "markdown",
   "id": "cbb8ec21",
   "metadata": {},
   "source": [
    "# Mindspore 使用"
   ]
  },
  {
   "cell_type": "code",
   "execution_count": null,
   "id": "68539e24",
   "metadata": {},
   "outputs": [],
   "source": [
    "print(y_train.shape)\n",
    "print(X_train.shape)"
   ]
  },
  {
   "cell_type": "code",
   "execution_count": null,
   "id": "54889fe3",
   "metadata": {
    "scrolled": true
   },
   "outputs": [],
   "source": [
    "import mindspore\n",
    "import mindspore.nn as nn\n",
    "import mindspore.ops.operations as P\n",
    "from mindspore.common.tensor import Tensor\n",
    "from mindspore import Parameter, Model\n",
    "import numpy as np\n",
    "import mindspore.dataset as ds\n",
    "\n",
    "class LogisticRegression(nn.Cell):\n",
    "    def __init__(self, n_features, num_classes):\n",
    "        super(LogisticRegression, self).__init__()\n",
    "        w = Tensor(np.zeros((n_features, num_classes)))\n",
    "        w = w.astype(mindspore.float32)\n",
    "        b = Tensor(np.zeros((num_classes,)))\n",
    "        b = b.astype(mindspore.float32)\n",
    "        self.weight = Parameter(w, name=\"weight\", requires_grad=True)\n",
    "        self.bias = Parameter(b, name=\"bias\", requires_grad=True)\n",
    "\n",
    "    def construct(self, x):\n",
    "        x = P.MatMul()(x, self.weight)\n",
    "        x = P.Add()(x, self.bias)\n",
    "        return x\n",
    "\n",
    "n_features = 12\n",
    "num_classes = 2\n",
    "network = LogisticRegression(n_features, num_classes)\n",
    "\n",
    "# 定义损失函数\n",
    "net_loss = nn.SoftmaxCrossEntropyWithLogits(sparse=True, reduction='mean')\n",
    "\n",
    "# 定义优化器函数\n",
    "net_opt = nn.Momentum(network.trainable_params(), learning_rate=0.01, momentum=0.9)\n",
    "\n",
    "# 初始化模型参数\n",
    "model = Model(network, loss_fn=net_loss, optimizer=net_opt, metrics={'acc'})\n",
    "\n",
    "# 训练模型\n",
    "from mindspore.train.callback import ModelCheckpoint, CheckpointConfig\n",
    "from mindspore.train.callback import LossMonitor\n",
    "\n",
    "batch_size = 1\n",
    "\n",
    "# 加载数据并进行类型转换\n",
    "X_train = X_train.astype(np.float32)\n",
    "y_train = y_train.astype(np.int32)\n",
    "\n",
    "train_dataset = ds.NumpySlicesDataset((X_train, y_train), shuffle=True)\n",
    "train_dataset = train_dataset.batch(batch_size=batch_size, drop_remainder=True, num_parallel_workers=8)\n",
    "train_dataset = train_dataset.shuffle(buffer_size=train_dataset.get_dataset_size())\n",
    "\n",
    "# 设置模型保存参数\n",
    "config_ck = CheckpointConfig(save_checkpoint_steps=X_train.size, keep_checkpoint_max=5)\n",
    "\n",
    "# 应用模型保存参数\n",
    "ckpoint = ModelCheckpoint(prefix=\"Logist Regression\", directory=\"./LogistModel\", config=config_ck)\n",
    "\n",
    "# 训练网络模型\n",
    "model.train(batch_size, train_dataset, callbacks=[ckpoint, LossMonitor(1)])\n"
   ]
  },
  {
   "cell_type": "code",
   "execution_count": null,
   "id": "e73ea5c3",
   "metadata": {},
   "outputs": [],
   "source": [
    "iterator = train_dataset.create_dict_iterator(output_numpy=True)\n",
    "\n",
    "# 获取前四个元素\n",
    "for i in range(4):\n",
    "    data = next(iterator)\n",
    "    # 打印第i个元素的内容和形状\n",
    "    print(f\"data {i} : {data}, shape: {[d.shape for d in data.values()]}\")"
   ]
  },
  {
   "cell_type": "code",
   "execution_count": null,
   "id": "a3fc7821",
   "metadata": {},
   "outputs": [],
   "source": [
    "X_test = X_test.astype(np.float32)\n",
    "y_test = y_test.astype(np.int32)\n",
    "\n",
    "test_dataset = ds.NumpySlicesDataset((X_test, y_test), shuffle=False)\n",
    "test_dataset = test_dataset.batch(batch_size=batch_size, drop_remainder=True, num_parallel_workers=8)"
   ]
  },
  {
   "cell_type": "code",
   "execution_count": null,
   "id": "3e09130e",
   "metadata": {},
   "outputs": [],
   "source": [
    "# 定义测试函数\n",
    "def test_model(model, test_dataset):\n",
    "\n",
    "    num_correct = 0\n",
    "    num_total = 0\n",
    "    for data in test_dataset:\n",
    "        inputs, labels = data\n",
    "        outputs = model.predict(inputs)\n",
    "        preds = np.argmax(outputs.asnumpy(), axis=1)\n",
    "        num_correct += np.sum(preds == labels.asnumpy())\n",
    "        num_total += len(labels)\n",
    "\n",
    "    accuracy = num_correct / num_total\n",
    "    print(f\"Test accuracy: {accuracy:.4f}\")"
   ]
  },
  {
   "cell_type": "code",
   "execution_count": null,
   "id": "54d27103",
   "metadata": {},
   "outputs": [],
   "source": [
    "# 在测试集上测试模型准确率\n",
    "test_model(model, test_dataset)"
   ]
  },
  {
   "cell_type": "code",
   "execution_count": null,
   "id": "78d80328",
   "metadata": {},
   "outputs": [],
   "source": []
  }
 ],
 "metadata": {
  "kernelspec": {
   "display_name": "Python 3 (ipykernel)",
   "language": "python",
   "name": "python3"
  },
  "language_info": {
   "codemirror_mode": {
    "name": "ipython",
    "version": 3
   },
   "file_extension": ".py",
   "mimetype": "text/x-python",
   "name": "python",
   "nbconvert_exporter": "python",
   "pygments_lexer": "ipython3",
   "version": "3.9.16"
  }
 },
 "nbformat": 4,
 "nbformat_minor": 5
}
